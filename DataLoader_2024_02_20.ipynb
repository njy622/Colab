{
  "nbformat": 4,
  "nbformat_minor": 0,
  "metadata": {
    "colab": {
      "provenance": [],
      "authorship_tag": "ABX9TyPsuWJQC1poIP6n+7nBMgXR",
      "include_colab_link": true
    },
    "kernelspec": {
      "name": "python3",
      "display_name": "Python 3"
    },
    "language_info": {
      "name": "python"
    }
  },
  "cells": [
    {
      "cell_type": "markdown",
      "metadata": {
        "id": "view-in-github",
        "colab_type": "text"
      },
      "source": [
        "<a href=\"https://colab.research.google.com/github/njy622/Colab/blob/main/DataLoader_2024_02_20.ipynb\" target=\"_parent\"><img src=\"https://colab.research.google.com/assets/colab-badge.svg\" alt=\"Open In Colab\"/></a>"
      ]
    },
    {
      "cell_type": "markdown",
      "source": [
        "## Dataset\n",
        "- https://wikidocs.net/194918"
      ],
      "metadata": {
        "id": "QRiyFATKLmm1"
      }
    },
    {
      "cell_type": "code",
      "source": [
        "import torch\n",
        "from torch.utils.data import Dataset"
      ],
      "metadata": {
        "id": "ExAa0sBtLnMa"
      },
      "execution_count": 19,
      "outputs": []
    },
    {
      "cell_type": "markdown",
      "source": [
        "- numpy 기준(0, 1, 2, 3) -> tensor 배열(0, 3, 1, 2)"
      ],
      "metadata": {
        "id": "zC-GS1AfMGYJ"
      }
    },
    {
      "cell_type": "code",
      "source": [
        "class customImageDataset(Dataset):\n",
        "\n",
        "  def __init__ (self, x_data, y_data):\n",
        "    #데이터를 Tensor로 변환\n",
        "    self.x_data = torch.FloatTensor(x_data)\n",
        "    #Tensor로 바뀐 데이터의 차원변환(permute)\n",
        "    self.x_data = self.x_data.permute(0,3,1,2)\n",
        "    #자료형 변환\n",
        "    self.y_data = torch.FloatTensor(y_data)\n",
        "    self.len = self.y_data.shape[0]\n",
        "\n",
        "  def __getitem__(self, index):\n",
        "\n",
        "    return self.x_data[index], self.y_data[index]\n",
        "\n",
        "  def __len__(self):\n",
        "    return self.len\n",
        ""
      ],
      "metadata": {
        "id": "W7q1z8rqL1Ny"
      },
      "execution_count": 21,
      "outputs": []
    },
    {
      "cell_type": "code",
      "source": [],
      "metadata": {
        "id": "hYGAz4HJL084"
      },
      "execution_count": null,
      "outputs": []
    },
    {
      "cell_type": "markdown",
      "source": [
        "## DataLoader\n",
        "- 임의의 이미지 데이터 만들기\n",
        "-https://wikidocs.net/194923"
      ],
      "metadata": {
        "id": "_7X61g4sAnck"
      }
    },
    {
      "cell_type": "code",
      "execution_count": 1,
      "metadata": {
        "id": "zfVZt3omAbvH"
      },
      "outputs": [],
      "source": [
        "import numpy as np"
      ]
    },
    {
      "cell_type": "markdown",
      "source": [
        "### 이미지 배열 구조"
      ],
      "metadata": {
        "id": "6hHKDCduA-04"
      }
    },
    {
      "cell_type": "markdown",
      "source": [
        "- numpy\n",
        "  - (배치사이즈, 너비, 높이, 채널사이즈)\n",
        "  - (0, 1, 2, 3)\n",
        "\n",
        "- tensor\n",
        "  - (배치사이즈, 채널사이즈, 너비, 높이)\n",
        "  - (0, 1, 2, 3)"
      ],
      "metadata": {
        "id": "IZikRdg4BFNy"
      }
    },
    {
      "cell_type": "code",
      "source": [
        "# RGB 데이터를 20장으로 만듦\n",
        "train_images = np.random.randint(256, size=(20, 32, 32, 3))\n",
        "train_labels = np.random.randint(10, size=(20,1))"
      ],
      "metadata": {
        "id": "XSumVqkaAv6u"
      },
      "execution_count": 4,
      "outputs": []
    },
    {
      "cell_type": "code",
      "source": [
        "train_images.shape"
      ],
      "metadata": {
        "colab": {
          "base_uri": "https://localhost:8080/"
        },
        "id": "JePmNoVRCUbx",
        "outputId": "66da3934-43c4-4bf3-f118-4670f23ee585"
      },
      "execution_count": 5,
      "outputs": [
        {
          "output_type": "execute_result",
          "data": {
            "text/plain": [
              "(20, 32, 32, 3)"
            ]
          },
          "metadata": {},
          "execution_count": 5
        }
      ]
    },
    {
      "cell_type": "markdown",
      "source": [
        "- numpy\n",
        "  - (배치사이즈, 너비, 높이, 채널사이즈)\n",
        "  - (0, 2, 3, 1)  tensor 기준으로 구조 변경됨\n",
        "\n",
        "- tensor\n",
        "  - (배치사이즈, 채널사이즈, 너비, 높이)\n",
        "  - (0, 1, 2, 3)"
      ],
      "metadata": {
        "id": "OX_uPZC_EWf1"
      }
    },
    {
      "cell_type": "code",
      "source": [
        "train_images[0]"
      ],
      "metadata": {
        "colab": {
          "base_uri": "https://localhost:8080/"
        },
        "id": "4X_K-Y_mERAU",
        "outputId": "ec08f510-e9d9-41c9-adf0-82415d84d7c3"
      },
      "execution_count": 8,
      "outputs": [
        {
          "output_type": "execute_result",
          "data": {
            "text/plain": [
              "array([[[124,  83, 182],\n",
              "        [  7,  49, 199],\n",
              "        [183, 203, 105],\n",
              "        ...,\n",
              "        [147, 214, 125],\n",
              "        [120, 241,  31],\n",
              "        [210,   0,  68]],\n",
              "\n",
              "       [[105, 213, 172],\n",
              "        [253, 193,  75],\n",
              "        [ 70, 118,  78],\n",
              "        ...,\n",
              "        [ 11, 230, 248],\n",
              "        [234, 193, 182],\n",
              "        [195, 215, 226]],\n",
              "\n",
              "       [[ 88, 129, 151],\n",
              "        [ 11,   8,  49],\n",
              "        [ 59, 176, 227],\n",
              "        ...,\n",
              "        [  4, 130, 195],\n",
              "        [155, 205, 107],\n",
              "        [ 13,  54,  53]],\n",
              "\n",
              "       ...,\n",
              "\n",
              "       [[ 87,  33, 251],\n",
              "        [132,  97, 126],\n",
              "        [206, 113,  18],\n",
              "        ...,\n",
              "        [113, 139,  64],\n",
              "        [ 87, 234, 152],\n",
              "        [ 36, 226, 158]],\n",
              "\n",
              "       [[ 76,  94, 171],\n",
              "        [ 28,  64, 232],\n",
              "        [ 16,  41, 198],\n",
              "        ...,\n",
              "        [163,  44, 143],\n",
              "        [201, 135, 219],\n",
              "        [174, 161, 121]],\n",
              "\n",
              "       [[236, 156, 216],\n",
              "        [  6,  85, 170],\n",
              "        [178, 180, 104],\n",
              "        ...,\n",
              "        [229, 251,  46],\n",
              "        [ 11, 243, 201],\n",
              "        [ 67, 180, 112]]])"
            ]
          },
          "metadata": {},
          "execution_count": 8
        }
      ]
    },
    {
      "cell_type": "code",
      "source": [
        "import torch\n",
        "from torch.utils.data import DataLoader"
      ],
      "metadata": {
        "id": "X8VFvDDfJM7O"
      },
      "execution_count": 9,
      "outputs": []
    },
    {
      "cell_type": "code",
      "source": [
        "train_data = customImageDataset(train_images, train_labels)"
      ],
      "metadata": {
        "id": "wUa-cEJXNJVp"
      },
      "execution_count": 22,
      "outputs": []
    },
    {
      "cell_type": "code",
      "source": [
        "train_loarder = DataLoader(train_data, batch_size =4, shuffle=False)"
      ],
      "metadata": {
        "id": "0LaK5OvsEhdh"
      },
      "execution_count": 24,
      "outputs": []
    },
    {
      "cell_type": "code",
      "source": [
        "train_loarder"
      ],
      "metadata": {
        "colab": {
          "base_uri": "https://localhost:8080/"
        },
        "id": "0Zi9sX6AJY8Q",
        "outputId": "c0d3e47e-fad7-4b8f-eaa6-f6f30d50a4de"
      },
      "execution_count": 25,
      "outputs": [
        {
          "output_type": "execute_result",
          "data": {
            "text/plain": [
              "<torch.utils.data.dataloader.DataLoader at 0x7d9f01e8d5a0>"
            ]
          },
          "metadata": {},
          "execution_count": 25
        }
      ]
    },
    {
      "cell_type": "markdown",
      "source": [],
      "metadata": {
        "id": "K7RsyRoSJs2O"
      }
    },
    {
      "cell_type": "markdown",
      "source": [
        "### 이터레이터 객체 확인\n",
        "- https://wikidocs.net/194918"
      ],
      "metadata": {
        "id": "sRJRHBbEJxHh"
      }
    },
    {
      "cell_type": "code",
      "source": [
        "for images, lables in train_loarder:\n",
        "  print(lables)"
      ],
      "metadata": {
        "colab": {
          "base_uri": "https://localhost:8080/"
        },
        "id": "g_pB921UJrwG",
        "outputId": "68dfbaab-153a-4536-9017-86d52c7f32cf"
      },
      "execution_count": 28,
      "outputs": [
        {
          "output_type": "stream",
          "name": "stdout",
          "text": [
            "tensor([[1.],\n",
            "        [2.],\n",
            "        [3.],\n",
            "        [3.]])\n",
            "tensor([[5.],\n",
            "        [5.],\n",
            "        [9.],\n",
            "        [7.]])\n",
            "tensor([[4.],\n",
            "        [7.],\n",
            "        [1.],\n",
            "        [1.]])\n",
            "tensor([[5.],\n",
            "        [5.],\n",
            "        [9.],\n",
            "        [9.]])\n",
            "tensor([[2.],\n",
            "        [3.],\n",
            "        [8.],\n",
            "        [5.]])\n"
          ]
        }
      ]
    },
    {
      "cell_type": "code",
      "source": [
        "train_iter = iter(train_loarder)\n",
        "train_iter.next()"
      ],
      "metadata": {
        "id": "XiJdqCVNNTvG"
      },
      "execution_count": null,
      "outputs": []
    }
  ]
}